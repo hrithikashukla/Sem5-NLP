{
  "nbformat": 4,
  "nbformat_minor": 0,
  "metadata": {
    "colab": {
      "name": "nltk_spacy.ipynb",
      "provenance": [],
      "collapsed_sections": [],
      "include_colab_link": true
    },
    "kernelspec": {
      "name": "python3",
      "display_name": "Python 3"
    }
  },
  "cells": [
    {
      "cell_type": "markdown",
      "metadata": {
        "id": "view-in-github",
        "colab_type": "text"
      },
      "source": [
        "<a href=\"https://colab.research.google.com/github/hrithikashukla/Sem5-NLP/blob/master/home%20assignment/nltk_spacy.ipynb\" target=\"_parent\"><img src=\"https://colab.research.google.com/assets/colab-badge.svg\" alt=\"Open In Colab\"/></a>"
      ]
    },
    {
      "cell_type": "code",
      "metadata": {
        "id": "W9ujr1gkhxr0",
        "colab_type": "code",
        "outputId": "2847e8a9-03ec-4c3e-962e-63d43f8ae4e3",
        "colab": {
          "base_uri": "https://localhost:8080/",
          "height": 136
        }
      },
      "source": [
        "import pandas as pd\n",
        "import re\n",
        "import nltk\n",
        "import spacy\n",
        "nltk.download('punkt')\n",
        "from nltk.tokenize import MWETokenizer, word_tokenize\n",
        "nltk.download('averaged_perceptron_tagger')"
      ],
      "execution_count": 11,
      "outputs": [
        {
          "output_type": "stream",
          "text": [
            "[nltk_data] Downloading package punkt to /root/nltk_data...\n",
            "[nltk_data]   Package punkt is already up-to-date!\n",
            "[nltk_data] Downloading package averaged_perceptron_tagger to\n",
            "[nltk_data]     /root/nltk_data...\n",
            "[nltk_data]   Package averaged_perceptron_tagger is already up-to-\n",
            "[nltk_data]       date!\n"
          ],
          "name": "stdout"
        },
        {
          "output_type": "execute_result",
          "data": {
            "text/plain": [
              "True"
            ]
          },
          "metadata": {
            "tags": []
          },
          "execution_count": 11
        }
      ]
    },
    {
      "cell_type": "code",
      "metadata": {
        "id": "OMvwcL2liHl_",
        "colab_type": "code",
        "colab": {}
      },
      "source": [
        "data = pd.read_json(\"http://snap.stanford.edu/data/amazon/productGraph/categoryFiles/reviews_Office_Products_5.json.gz\",lines = True)"
      ],
      "execution_count": 0,
      "outputs": []
    },
    {
      "cell_type": "code",
      "metadata": {
        "id": "bt9PE1oCiaif",
        "colab_type": "code",
        "outputId": "4a3ee2fe-8326-42f7-b5bf-a6b72bfc58e1",
        "colab": {
          "base_uri": "https://localhost:8080/",
          "height": 289
        }
      },
      "source": [
        "data.head()"
      ],
      "execution_count": 13,
      "outputs": [
        {
          "output_type": "execute_result",
          "data": {
            "text/html": [
              "<div>\n",
              "<style scoped>\n",
              "    .dataframe tbody tr th:only-of-type {\n",
              "        vertical-align: middle;\n",
              "    }\n",
              "\n",
              "    .dataframe tbody tr th {\n",
              "        vertical-align: top;\n",
              "    }\n",
              "\n",
              "    .dataframe thead th {\n",
              "        text-align: right;\n",
              "    }\n",
              "</style>\n",
              "<table border=\"1\" class=\"dataframe\">\n",
              "  <thead>\n",
              "    <tr style=\"text-align: right;\">\n",
              "      <th></th>\n",
              "      <th>reviewerID</th>\n",
              "      <th>asin</th>\n",
              "      <th>reviewerName</th>\n",
              "      <th>helpful</th>\n",
              "      <th>reviewText</th>\n",
              "      <th>overall</th>\n",
              "      <th>summary</th>\n",
              "      <th>unixReviewTime</th>\n",
              "      <th>reviewTime</th>\n",
              "    </tr>\n",
              "  </thead>\n",
              "  <tbody>\n",
              "    <tr>\n",
              "      <th>0</th>\n",
              "      <td>A32T2H8150OJLU</td>\n",
              "      <td>B00000JBLH</td>\n",
              "      <td>ARH</td>\n",
              "      <td>[3, 4]</td>\n",
              "      <td>I bought my first HP12C in about 1984 or so, a...</td>\n",
              "      <td>5</td>\n",
              "      <td>A solid performer, and long time friend</td>\n",
              "      <td>1094169600</td>\n",
              "      <td>09 3, 2004</td>\n",
              "    </tr>\n",
              "    <tr>\n",
              "      <th>1</th>\n",
              "      <td>A3MAFS04ZABRGO</td>\n",
              "      <td>B00000JBLH</td>\n",
              "      <td>Let it Be \"Alan\"</td>\n",
              "      <td>[7, 9]</td>\n",
              "      <td>WHY THIS BELATED REVIEW? I feel very obliged t...</td>\n",
              "      <td>5</td>\n",
              "      <td>Price of GOLD is up, so don't bury the golden ...</td>\n",
              "      <td>1197676800</td>\n",
              "      <td>12 15, 2007</td>\n",
              "    </tr>\n",
              "    <tr>\n",
              "      <th>2</th>\n",
              "      <td>A1F1A0QQP2XVH5</td>\n",
              "      <td>B00000JBLH</td>\n",
              "      <td>Mark B</td>\n",
              "      <td>[3, 3]</td>\n",
              "      <td>I have an HP 48GX that has been kicking for mo...</td>\n",
              "      <td>2</td>\n",
              "      <td>Good functionality, but not durable like old HPs</td>\n",
              "      <td>1293840000</td>\n",
              "      <td>01 1, 2011</td>\n",
              "    </tr>\n",
              "    <tr>\n",
              "      <th>3</th>\n",
              "      <td>A49R5DBXXQDE5</td>\n",
              "      <td>B00000JBLH</td>\n",
              "      <td>R. D Johnson</td>\n",
              "      <td>[7, 8]</td>\n",
              "      <td>I've started doing more finance stuff recently...</td>\n",
              "      <td>5</td>\n",
              "      <td>One of the last of an almost extinct species</td>\n",
              "      <td>1145404800</td>\n",
              "      <td>04 19, 2006</td>\n",
              "    </tr>\n",
              "    <tr>\n",
              "      <th>4</th>\n",
              "      <td>A2XRMQA6PJ5ZJ8</td>\n",
              "      <td>B00000JBLH</td>\n",
              "      <td>Roger J. Buffington</td>\n",
              "      <td>[0, 0]</td>\n",
              "      <td>For simple calculations and discounted cash fl...</td>\n",
              "      <td>5</td>\n",
              "      <td>Still the best</td>\n",
              "      <td>1375574400</td>\n",
              "      <td>08 4, 2013</td>\n",
              "    </tr>\n",
              "  </tbody>\n",
              "</table>\n",
              "</div>"
            ],
            "text/plain": [
              "       reviewerID        asin  ... unixReviewTime   reviewTime\n",
              "0  A32T2H8150OJLU  B00000JBLH  ...     1094169600   09 3, 2004\n",
              "1  A3MAFS04ZABRGO  B00000JBLH  ...     1197676800  12 15, 2007\n",
              "2  A1F1A0QQP2XVH5  B00000JBLH  ...     1293840000   01 1, 2011\n",
              "3   A49R5DBXXQDE5  B00000JBLH  ...     1145404800  04 19, 2006\n",
              "4  A2XRMQA6PJ5ZJ8  B00000JBLH  ...     1375574400   08 4, 2013\n",
              "\n",
              "[5 rows x 9 columns]"
            ]
          },
          "metadata": {
            "tags": []
          },
          "execution_count": 13
        }
      ]
    },
    {
      "cell_type": "code",
      "metadata": {
        "id": "vDFFRXtK7_oq",
        "colab_type": "code",
        "colab": {}
      },
      "source": [
        "def tok(text):\n",
        "  mtokenizer = MWETokenizer()\n",
        "  mwe = mtokenizer.tokenize(text.split())\n",
        "  wtokenizer = word_tokenize(text)\n",
        "  pos = nltk.pos_tag(wtokenizer)\n",
        "\n",
        "  ndic = {}\n",
        "  ndic[\"word_token\"] = wtokenizer\n",
        "  ndic[\"mwe_token\"] = mtokenizer\n",
        "  ndic[\"pos_tag\"] = pos\n",
        "  return ndic"
      ],
      "execution_count": 0,
      "outputs": []
    },
    {
      "cell_type": "code",
      "metadata": {
        "id": "BiMBi16IDbZl",
        "colab_type": "code",
        "colab": {}
      },
      "source": [
        "def get_adj(l):\n",
        "  adj = []\n",
        "  for i,t in l[\"pos_tag\"]:\n",
        "    if t == \"JJ\":\n",
        "      adj.append(i)\n",
        "  return adj"
      ],
      "execution_count": 0,
      "outputs": []
    },
    {
      "cell_type": "code",
      "metadata": {
        "id": "asL6JSmy963r",
        "colab_type": "code",
        "colab": {}
      },
      "source": [
        "data[\"reviewText_nltkWords\"] = data[\"reviewText\"].apply(tok)"
      ],
      "execution_count": 0,
      "outputs": []
    },
    {
      "cell_type": "code",
      "metadata": {
        "id": "Pvr5Xj8M-IFt",
        "colab_type": "code",
        "outputId": "74e980cf-79c8-40f0-f520-613f9a380023",
        "colab": {
          "base_uri": "https://localhost:8080/",
          "height": 54
        }
      },
      "source": [
        "print(data.loc[0,\"reviewText_nltkWords\"])"
      ],
      "execution_count": 0,
      "outputs": [
        {
          "output_type": "stream",
          "text": [
            "{'word_token': ['I', 'bought', 'my', 'first', 'HP12C', 'in', 'about', '1984', 'or', 'so', ',', 'and', 'it', 'served', 'me', 'faithfully', 'until', '2002', 'when', 'I', 'lost', 'it', 'while', 'travelling', '.', 'I', 'searched', 'for', 'another', 'one', 'to', 'replace', 'it', ',', 'but', 'found', 'one', 'difficult', 'to', 'come', 'by', 'in', 'my', 'area', '.', 'So', ',', 'I', 'decided', 'to', 'buy', 'up', 'and', 'purchased', 'an', 'HP', '49G', '.', 'What', 'a', 'mistake', '!', 'I', 'know', 'that', 'many', 'people', 'view', 'the', 'HP', '49G', '(', 'now', '49G+', ')', 'as', 'the', 'flagship', 'of', 'the', 'HP', 'line', ',', 'but', 'for', 'me', 'that', 'was', 'a', 'disaster.The', '49G', 'may', 'be', 'powerful', ',', 'but', 'using', 'it', 'is', 'extremely', 'counterintuitive', '...', 'and', 'the', 'manual', 'was', 'sketchy', 'at', 'best', '.', 'The', '12C', ',', 'on', 'the', 'other', 'hand', ',', 'does', 'what', 'I', 'need', 'in', 'a', 'way', 'that', 'makes', 'good', 'sense', 'to', 'me.If', 'you', 'are', 'looking', 'for', 'a', 'solid', ',', 'reliable', 'calculator', ',', 'the', 'HP12C', 'may', 'be', 'for', 'you', '.', 'It', \"'s\", 'programmable', '.', 'It', 'does', 'basic', 'statistics', 'well', ',', 'and', 'many', 'business', 'applications', 'too', '.', 'The', 'manual', 'makes', 'sense', ';', 'you', 'will', 'be', 'up', 'and', 'running', 'in', 'short', 'order.I', \"'m\", 'ready', 'to', 'set', 'my', '49G', 'aside', 'and', 'move', 'back', 'to', 'my', 'old', 'friend', '.', 'I', 'did', \"n't\", 'even', 'have', 'to', 'replace', 'the', 'batteries', 'in', 'well', 'over', 'a', 'decade', 'of', 'use', '!', 'HP', '12C', ',', 'I', \"'m\", 'coming', 'home', '!'], 'mwe_token': <nltk.tokenize.mwe.MWETokenizer object at 0x7f03f39952e8>}\n"
          ],
          "name": "stdout"
        }
      ]
    },
    {
      "cell_type": "code",
      "metadata": {
        "id": "pCvM5LW9-8Lm",
        "colab_type": "code",
        "colab": {}
      },
      "source": [
        "data[\"adj_reviewWords\"] = data[\"reviewText_nltkWords\"].apply(get_adj)"
      ],
      "execution_count": 0,
      "outputs": []
    },
    {
      "cell_type": "code",
      "metadata": {
        "id": "-M7yLRAVFDHP",
        "colab_type": "code",
        "outputId": "60712c30-0148-4f43-f821-3b9d0f8dd77e",
        "colab": {
          "base_uri": "https://localhost:8080/",
          "height": 54
        }
      },
      "source": [
        "print(data.loc[0,\"adj_reviewWords\"])"
      ],
      "execution_count": 0,
      "outputs": [
        {
          "output_type": "stream",
          "text": [
            "['first', 'difficult', 'many', 'disaster.The', 'powerful', 'counterintuitive', 'other', 'good', 'solid', 'reliable', 'programmable', 'basic', 'many', 'manual', 'short', 'ready', 'old']\n"
          ],
          "name": "stdout"
        }
      ]
    },
    {
      "cell_type": "code",
      "metadata": {
        "id": "u9APoKAQFKp1",
        "colab_type": "code",
        "colab": {}
      },
      "source": [
        "nlp = spacy.load('en')\n",
        "from spacy import displacy"
      ],
      "execution_count": 0,
      "outputs": []
    },
    {
      "cell_type": "code",
      "metadata": {
        "id": "IQyyyPUP41uC",
        "colab_type": "code",
        "colab": {}
      },
      "source": [
        "def spcy(text):\n",
        "  sdic = {}\n",
        "  doc = nlp(text)\n",
        "  tokens = []\n",
        "  lemits = []\n",
        "  postags = []\n",
        "  dep_par = []\n",
        "\n",
        "  for token in doc:\n",
        "    tokens.append(token.text)\n",
        "    lemits.append(token.lemma_)\n",
        "    postags.append(token.tag_)\n",
        "    dep_par.append(token.dep_)\n",
        "\n",
        "  sdic[\"tokens\"] = tokens\n",
        "  sdic[\"lemitz\"] = lemits\n",
        "  sdic[\"tags\"] = postags\n",
        "  sdic[\"dep\"] = dep_par\n",
        "  return sdic"
      ],
      "execution_count": 0,
      "outputs": []
    },
    {
      "cell_type": "code",
      "metadata": {
        "id": "nqJpuMMvBsDf",
        "colab_type": "code",
        "colab": {
          "base_uri": "https://localhost:8080/",
          "height": 54
        },
        "outputId": "fa8a1bc0-6077-433b-971d-7d7245483700"
      },
      "source": [
        "a = spcy(data.loc[0,\"reviewText\"])\n",
        "print(a)"
      ],
      "execution_count": 21,
      "outputs": [
        {
          "output_type": "stream",
          "text": [
            "{'tokens': ['I', 'bought', 'my', 'first', 'HP12C', 'in', 'about', '1984', 'or', 'so', ',', 'and', 'it', 'served', 'me', 'faithfully', 'until', '2002', 'when', 'I', 'lost', 'it', 'while', 'travelling', '.', ' ', 'I', 'searched', 'for', 'another', 'one', 'to', 'replace', 'it', ',', 'but', 'found', 'one', 'difficult', 'to', 'come', 'by', 'in', 'my', 'area', '.', ' ', 'So', ',', 'I', 'decided', 'to', 'buy', 'up', 'and', 'purchased', 'an', 'HP', '49G.', ' ', 'What', 'a', 'mistake', '!', ' ', 'I', 'know', 'that', 'many', 'people', 'view', 'the', 'HP', '49', 'G', '(', 'now', '49G+', ')', 'as', 'the', 'flagship', 'of', 'the', 'HP', 'line', ',', 'but', 'for', 'me', 'that', 'was', 'a', 'disaster', '.', 'The', '49', 'G', 'may', 'be', 'powerful', ',', 'but', 'using', 'it', 'is', 'extremely', 'counterintuitive', '...', 'and', 'the', 'manual', 'was', 'sketchy', 'at', 'best', '.', ' ', 'The', '12C', ',', 'on', 'the', 'other', 'hand', ',', 'does', 'what', 'I', 'need', 'in', 'a', 'way', 'that', 'makes', 'good', 'sense', 'to', 'me', '.', 'If', 'you', 'are', 'looking', 'for', 'a', 'solid', ',', 'reliable', 'calculator', ',', 'the', 'HP12C', 'may', 'be', 'for', 'you', '.', ' ', 'It', \"'s\", 'programmable', '.', ' ', 'It', 'does', 'basic', 'statistics', 'well', ',', 'and', 'many', 'business', 'applications', 'too', '.', ' ', 'The', 'manual', 'makes', 'sense', ';', 'you', 'will', 'be', 'up', 'and', 'running', 'in', 'short', 'order', '.', \"I'm\", 'ready', 'to', 'set', 'my', '49', 'G', 'aside', 'and', 'move', 'back', 'to', 'my', 'old', 'friend', '.', ' ', 'I', 'did', \"n't\", 'even', 'have', 'to', 'replace', 'the', 'batteries', 'in', 'well', 'over', 'a', 'decade', 'of', 'use!HP', '12C', ',', 'I', \"'m\", 'coming', 'home', '!'], 'lemitz': ['-PRON-', 'buy', '-PRON-', 'first', 'hp12c', 'in', 'about', '1984', 'or', 'so', ',', 'and', '-PRON-', 'serve', '-PRON-', 'faithfully', 'until', '2002', 'when', '-PRON-', 'lose', '-PRON-', 'while', 'travel', '.', ' ', '-PRON-', 'search', 'for', 'another', 'one', 'to', 'replace', '-PRON-', ',', 'but', 'find', 'one', 'difficult', 'to', 'come', 'by', 'in', '-PRON-', 'area', '.', ' ', 'so', ',', '-PRON-', 'decide', 'to', 'buy', 'up', 'and', 'purchase', 'an', 'HP', '49g.', ' ', 'what', 'a', 'mistake', '!', ' ', '-PRON-', 'know', 'that', 'many', 'people', 'view', 'the', 'HP', '49', 'G', '(', 'now', '49g+', ')', 'as', 'the', 'flagship', 'of', 'the', 'HP', 'line', ',', 'but', 'for', '-PRON-', 'that', 'be', 'a', 'disaster', '.', 'the', '49', 'g', 'may', 'be', 'powerful', ',', 'but', 'use', '-PRON-', 'be', 'extremely', 'counterintuitive', '...', 'and', 'the', 'manual', 'be', 'sketchy', 'at', 'good', '.', ' ', 'the', '12c', ',', 'on', 'the', 'other', 'hand', ',', 'do', 'what', '-PRON-', 'need', 'in', 'a', 'way', 'that', 'make', 'good', 'sense', 'to', '-PRON-', '.', 'if', '-PRON-', 'be', 'look', 'for', 'a', 'solid', ',', 'reliable', 'calculator', ',', 'the', 'hp12c', 'may', 'be', 'for', '-PRON-', '.', ' ', '-PRON-', 'be', 'programmable', '.', ' ', '-PRON-', 'do', 'basic', 'statistic', 'well', ',', 'and', 'many', 'business', 'application', 'too', '.', ' ', 'the', 'manual', 'make', 'sense', ';', '-PRON-', 'will', 'be', 'up', 'and', 'run', 'in', 'short', 'order', '.', \"i'm\", 'ready', 'to', 'set', '-PRON-', '49', 'g', 'aside', 'and', 'move', 'back', 'to', '-PRON-', 'old', 'friend', '.', ' ', '-PRON-', 'do', 'not', 'even', 'have', 'to', 'replace', 'the', 'battery', 'in', 'well', 'over', 'a', 'decade', 'of', 'use!hp', '12c', ',', '-PRON-', 'be', 'come', 'home', '!'], 'tags': ['PRP', 'VBD', 'PRP$', 'JJ', 'NN', 'IN', 'RB', 'CD', 'CC', 'RB', ',', 'CC', 'PRP', 'VBD', 'PRP', 'RB', 'IN', 'CD', 'WRB', 'PRP', 'VBD', 'PRP', 'IN', 'VBG', '.', '_SP', 'PRP', 'VBD', 'IN', 'DT', 'NN', 'TO', 'VB', 'PRP', ',', 'CC', 'VBD', 'CD', 'JJ', 'TO', 'VB', 'RP', 'IN', 'PRP$', 'NN', '.', '_SP', 'RB', ',', 'PRP', 'VBD', 'TO', 'VB', 'RP', 'CC', 'VBD', 'DT', 'NNP', 'CD', '_SP', 'WDT', 'DT', 'NN', '.', '_SP', 'PRP', 'VBP', 'IN', 'JJ', 'NNS', 'VBP', 'DT', 'NNP', 'CD', 'NNP', '-LRB-', 'RB', 'CD', '-RRB-', 'IN', 'DT', 'NN', 'IN', 'DT', 'NNP', 'NN', ',', 'CC', 'IN', 'PRP', 'WDT', 'VBD', 'DT', 'NN', '.', 'DT', 'CD', 'NN', 'MD', 'VB', 'JJ', ',', 'CC', 'VBG', 'PRP', 'VBZ', 'RB', 'JJ', ':', 'CC', 'DT', 'NN', 'VBD', 'JJ', 'IN', 'JJS', '.', '_SP', 'DT', 'CD', ',', 'IN', 'DT', 'JJ', 'NN', ',', 'VBZ', 'WP', 'PRP', 'VBP', 'IN', 'DT', 'NN', 'WDT', 'VBZ', 'JJ', 'NN', 'IN', 'PRP', '.', 'IN', 'PRP', 'VBP', 'VBG', 'IN', 'DT', 'JJ', ',', 'JJ', 'NN', ',', 'DT', 'NN', 'MD', 'VB', 'IN', 'PRP', '.', '_SP', 'PRP', 'VBZ', 'JJ', '.', '_SP', 'PRP', 'VBZ', 'JJ', 'NNS', 'RB', ',', 'CC', 'JJ', 'NN', 'NNS', 'RB', '.', '_SP', 'DT', 'NN', 'VBZ', 'NN', ':', 'PRP', 'MD', 'VB', 'RB', 'CC', 'VBG', 'IN', 'JJ', 'NN', '.', 'PRP', 'JJ', 'TO', 'VB', 'PRP$', 'CD', 'NN', 'RB', 'CC', 'VB', 'RB', 'IN', 'PRP$', 'JJ', 'NN', '.', '_SP', 'PRP', 'VBD', 'RB', 'RB', 'VB', 'TO', 'VB', 'DT', 'NNS', 'IN', 'RB', 'IN', 'DT', 'NN', 'IN', 'JJ', 'CD', ',', 'PRP', 'VBP', 'VBG', 'RB', '.'], 'dep': ['nsubj', 'ROOT', 'poss', 'amod', 'dobj', 'prep', 'advmod', 'pobj', 'cc', 'conj', 'punct', 'cc', 'nsubj', 'conj', 'dobj', 'advmod', 'prep', 'pobj', 'advmod', 'nsubj', 'relcl', 'dobj', 'mark', 'advcl', 'punct', '', 'nsubj', 'ROOT', 'prep', 'det', 'pobj', 'aux', 'relcl', 'dobj', 'punct', 'cc', 'conj', 'nsubj', 'ccomp', 'aux', 'xcomp', 'prt', 'prep', 'poss', 'pobj', 'punct', '', 'advmod', 'punct', 'nsubj', 'ROOT', 'aux', 'xcomp', 'prt', 'cc', 'conj', 'det', 'compound', 'dobj', '', 'det', 'det', 'ROOT', 'punct', '', 'nsubj', 'ROOT', 'mark', 'amod', 'nsubj', 'ccomp', 'det', 'nmod', 'nummod', 'dobj', 'punct', 'advmod', 'appos', 'punct', 'prep', 'det', 'pobj', 'prep', 'det', 'compound', 'pobj', 'punct', 'cc', 'prep', 'pobj', 'nsubj', 'conj', 'det', 'attr', 'punct', 'det', 'nummod', 'nsubj', 'aux', 'ROOT', 'acomp', 'punct', 'cc', 'csubj', 'dobj', 'conj', 'advmod', 'acomp', 'punct', 'cc', 'det', 'nsubj', 'conj', 'acomp', 'advmod', 'advmod', 'punct', '', 'det', 'nsubj', 'punct', 'prep', 'det', 'amod', 'pobj', 'punct', 'ROOT', 'dobj', 'nsubj', 'ccomp', 'prep', 'det', 'pobj', 'nsubj', 'relcl', 'amod', 'dobj', 'dative', 'pobj', 'punct', 'mark', 'nsubj', 'aux', 'advcl', 'prep', 'det', 'amod', 'punct', 'amod', 'pobj', 'punct', 'det', 'nsubj', 'aux', 'ROOT', 'prep', 'pobj', 'punct', '', 'nsubj', 'ROOT', 'acomp', 'punct', '', 'nsubj', 'ROOT', 'amod', 'dobj', 'advmod', 'punct', 'cc', 'amod', 'compound', 'conj', 'advmod', 'punct', '', 'det', 'nsubj', 'ccomp', 'dobj', 'punct', 'nsubj', 'aux', 'ROOT', 'advmod', 'cc', 'conj', 'prep', 'amod', 'pobj', 'punct', 'nsubj', 'ROOT', 'aux', 'xcomp', 'poss', 'nummod', 'dobj', 'advmod', 'cc', 'conj', 'advmod', 'prep', 'poss', 'amod', 'pobj', 'punct', '', 'nsubj', 'aux', 'neg', 'advmod', 'ccomp', 'aux', 'xcomp', 'det', 'dobj', 'prep', 'advmod', 'prep', 'det', 'pobj', 'prep', 'amod', 'pobj', 'punct', 'nsubj', 'aux', 'ROOT', 'advmod', 'punct']}\n"
          ],
          "name": "stdout"
        }
      ]
    },
    {
      "cell_type": "code",
      "metadata": {
        "id": "QHfhI13oCBeQ",
        "colab_type": "code",
        "colab": {}
      },
      "source": [
        "def get_nouns(text):\n",
        "  noun = []\n",
        "  doc = nlp(text)\n",
        "  for nouns in doc.noun_chunks:\n",
        "    noun.append(nouns)\n",
        "  return noun"
      ],
      "execution_count": 0,
      "outputs": []
    },
    {
      "cell_type": "code",
      "metadata": {
        "id": "O2jLoZWhKCQk",
        "colab_type": "code",
        "colab": {
          "base_uri": "https://localhost:8080/",
          "height": 54
        },
        "outputId": "5a68b7ed-18da-4128-9e8b-bafb30756d1e"
      },
      "source": [
        "b = get_nouns(data.loc[0,\"reviewText\"])\n",
        "print(b)"
      ],
      "execution_count": 25,
      "outputs": [
        {
          "output_type": "stream",
          "text": [
            "[I, my first HP12C, it, me, I, it, I, another one, it, my area, I, What a mistake, I, many people, the HP 49G, the flagship, the HP line, me, a disaster, The 49G, it, the manual, the other hand, what, I, a way, good sense, me, you, a solid, reliable calculator, the HP12C, you, It, It, basic statistics, many business applications, The manual, sense, you, short order, I'm, my 49G, my old friend, I, the batteries, a decade, I]\n"
          ],
          "name": "stdout"
        }
      ]
    }
  ]
}