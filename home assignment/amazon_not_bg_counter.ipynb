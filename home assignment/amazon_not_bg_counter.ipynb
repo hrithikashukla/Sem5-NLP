{
  "nbformat": 4,
  "nbformat_minor": 0,
  "metadata": {
    "colab": {
      "name": "amazon_not_bg_counter.ipynb",
      "provenance": [],
      "collapsed_sections": [],
      "include_colab_link": true
    },
    "kernelspec": {
      "name": "python3",
      "display_name": "Python 3"
    }
  },
  "cells": [
    {
      "cell_type": "markdown",
      "metadata": {
        "id": "view-in-github",
        "colab_type": "text"
      },
      "source": [
        "<a href=\"https://colab.research.google.com/github/hrithikashukla/Sem5-NLP/blob/master/home%20assignment/amazon_not_bg_counter.ipynb\" target=\"_parent\"><img src=\"https://colab.research.google.com/assets/colab-badge.svg\" alt=\"Open In Colab\"/></a>"
      ]
    },
    {
      "cell_type": "code",
      "metadata": {
        "id": "W9ujr1gkhxr0",
        "colab_type": "code",
        "colab": {}
      },
      "source": [
        "import pandas as pd\n",
        "import re"
      ],
      "execution_count": 0,
      "outputs": []
    },
    {
      "cell_type": "code",
      "metadata": {
        "id": "OMvwcL2liHl_",
        "colab_type": "code",
        "colab": {}
      },
      "source": [
        "data = pd.read_json(\"http://snap.stanford.edu/data/amazon/productGraph/categoryFiles/reviews_Office_Products_5.json.gz\",lines = True)"
      ],
      "execution_count": 0,
      "outputs": []
    },
    {
      "cell_type": "code",
      "metadata": {
        "id": "bt9PE1oCiaif",
        "colab_type": "code",
        "outputId": "cb37c5f7-a217-4935-cae1-bc9d6f6675e9",
        "colab": {
          "base_uri": "https://localhost:8080/",
          "height": 289
        }
      },
      "source": [
        "data.head()"
      ],
      "execution_count": 3,
      "outputs": [
        {
          "output_type": "execute_result",
          "data": {
            "text/html": [
              "<div>\n",
              "<style scoped>\n",
              "    .dataframe tbody tr th:only-of-type {\n",
              "        vertical-align: middle;\n",
              "    }\n",
              "\n",
              "    .dataframe tbody tr th {\n",
              "        vertical-align: top;\n",
              "    }\n",
              "\n",
              "    .dataframe thead th {\n",
              "        text-align: right;\n",
              "    }\n",
              "</style>\n",
              "<table border=\"1\" class=\"dataframe\">\n",
              "  <thead>\n",
              "    <tr style=\"text-align: right;\">\n",
              "      <th></th>\n",
              "      <th>reviewerID</th>\n",
              "      <th>asin</th>\n",
              "      <th>reviewerName</th>\n",
              "      <th>helpful</th>\n",
              "      <th>reviewText</th>\n",
              "      <th>overall</th>\n",
              "      <th>summary</th>\n",
              "      <th>unixReviewTime</th>\n",
              "      <th>reviewTime</th>\n",
              "    </tr>\n",
              "  </thead>\n",
              "  <tbody>\n",
              "    <tr>\n",
              "      <th>0</th>\n",
              "      <td>A32T2H8150OJLU</td>\n",
              "      <td>B00000JBLH</td>\n",
              "      <td>ARH</td>\n",
              "      <td>[3, 4]</td>\n",
              "      <td>I bought my first HP12C in about 1984 or so, a...</td>\n",
              "      <td>5</td>\n",
              "      <td>A solid performer, and long time friend</td>\n",
              "      <td>1094169600</td>\n",
              "      <td>09 3, 2004</td>\n",
              "    </tr>\n",
              "    <tr>\n",
              "      <th>1</th>\n",
              "      <td>A3MAFS04ZABRGO</td>\n",
              "      <td>B00000JBLH</td>\n",
              "      <td>Let it Be \"Alan\"</td>\n",
              "      <td>[7, 9]</td>\n",
              "      <td>WHY THIS BELATED REVIEW? I feel very obliged t...</td>\n",
              "      <td>5</td>\n",
              "      <td>Price of GOLD is up, so don't bury the golden ...</td>\n",
              "      <td>1197676800</td>\n",
              "      <td>12 15, 2007</td>\n",
              "    </tr>\n",
              "    <tr>\n",
              "      <th>2</th>\n",
              "      <td>A1F1A0QQP2XVH5</td>\n",
              "      <td>B00000JBLH</td>\n",
              "      <td>Mark B</td>\n",
              "      <td>[3, 3]</td>\n",
              "      <td>I have an HP 48GX that has been kicking for mo...</td>\n",
              "      <td>2</td>\n",
              "      <td>Good functionality, but not durable like old HPs</td>\n",
              "      <td>1293840000</td>\n",
              "      <td>01 1, 2011</td>\n",
              "    </tr>\n",
              "    <tr>\n",
              "      <th>3</th>\n",
              "      <td>A49R5DBXXQDE5</td>\n",
              "      <td>B00000JBLH</td>\n",
              "      <td>R. D Johnson</td>\n",
              "      <td>[7, 8]</td>\n",
              "      <td>I've started doing more finance stuff recently...</td>\n",
              "      <td>5</td>\n",
              "      <td>One of the last of an almost extinct species</td>\n",
              "      <td>1145404800</td>\n",
              "      <td>04 19, 2006</td>\n",
              "    </tr>\n",
              "    <tr>\n",
              "      <th>4</th>\n",
              "      <td>A2XRMQA6PJ5ZJ8</td>\n",
              "      <td>B00000JBLH</td>\n",
              "      <td>Roger J. Buffington</td>\n",
              "      <td>[0, 0]</td>\n",
              "      <td>For simple calculations and discounted cash fl...</td>\n",
              "      <td>5</td>\n",
              "      <td>Still the best</td>\n",
              "      <td>1375574400</td>\n",
              "      <td>08 4, 2013</td>\n",
              "    </tr>\n",
              "  </tbody>\n",
              "</table>\n",
              "</div>"
            ],
            "text/plain": [
              "       reviewerID        asin  ... unixReviewTime   reviewTime\n",
              "0  A32T2H8150OJLU  B00000JBLH  ...     1094169600   09 3, 2004\n",
              "1  A3MAFS04ZABRGO  B00000JBLH  ...     1197676800  12 15, 2007\n",
              "2  A1F1A0QQP2XVH5  B00000JBLH  ...     1293840000   01 1, 2011\n",
              "3   A49R5DBXXQDE5  B00000JBLH  ...     1145404800  04 19, 2006\n",
              "4  A2XRMQA6PJ5ZJ8  B00000JBLH  ...     1375574400   08 4, 2013\n",
              "\n",
              "[5 rows x 9 columns]"
            ]
          },
          "metadata": {
            "tags": []
          },
          "execution_count": 3
        }
      ]
    },
    {
      "cell_type": "code",
      "metadata": {
        "id": "DOZo2pHaij-U",
        "colab_type": "code",
        "colab": {}
      },
      "source": [
        "def word_counter(text) :\n",
        "  text = text.lower()\n",
        "  word_list = text.split()\n",
        "  word_count = {}\n",
        "\n",
        "  for word in word_list:\n",
        "    if word in word_count:\n",
        "      word_count[word] += 1\n",
        "    else :\n",
        "      word_count[word] = 1  \n",
        "      \n",
        "  return word_count"
      ],
      "execution_count": 0,
      "outputs": []
    },
    {
      "cell_type": "code",
      "metadata": {
        "id": "MFPxD4Bnjlff",
        "colab_type": "code",
        "colab": {}
      },
      "source": [
        "data[\"reviewText_wordCount\"] = data[\"reviewText\"].apply(word_counter)"
      ],
      "execution_count": 0,
      "outputs": []
    },
    {
      "cell_type": "code",
      "metadata": {
        "id": "TYW6VIzzmTPf",
        "colab_type": "code",
        "outputId": "8304087c-c328-45d5-f0d4-2351594ebf79",
        "colab": {
          "base_uri": "https://localhost:8080/",
          "height": 71
        }
      },
      "source": [
        "print(data.loc[18,\"reviewText\"])\n",
        "print(data.loc[18,\"reviewText_wordCount\"])"
      ],
      "execution_count": 6,
      "outputs": [
        {
          "output_type": "stream",
          "text": [
            "This is a good calculator, does what it is supposed to, great color, easy to take on the road when I travel.\n",
            "{'this': 1, 'is': 2, 'a': 1, 'good': 1, 'calculator,': 1, 'does': 1, 'what': 1, 'it': 1, 'supposed': 1, 'to,': 1, 'great': 1, 'color,': 1, 'easy': 1, 'to': 1, 'take': 1, 'on': 1, 'the': 1, 'road': 1, 'when': 1, 'i': 1, 'travel.': 1}\n"
          ],
          "name": "stdout"
        }
      ]
    },
    {
      "cell_type": "code",
      "metadata": {
        "id": "8YxK4OlUiiU6",
        "colab_type": "code",
        "colab": {}
      },
      "source": [
        "def vcw_counter(text) :\n",
        "  text = text.lower()\n",
        "  text = re.sub(r'[^a-z0-9\\s]', '', text)\n",
        "  word_list = text.split()\n",
        "  vcw_dict = {}\n",
        "  word_list = text.split()\n",
        "  vowel_count = 0\n",
        "  consonant_count = 0\n",
        "\n",
        "  vcw_dict[\"word_count\"] = len(word_list)\n",
        "  text = text.replace(\" \",\"\")\n",
        "  for i in text:\n",
        "    if i.isalpha():\n",
        "      if i in ['a','e','i','o','u']:\n",
        "        vowel_count += 1\n",
        "      else:\n",
        "        consonant_count += 1\n",
        "  \n",
        "  vcw_dict[\"v_count\"] = vowel_count\n",
        "  vcw_dict[\"c_count\"] = consonant_count\n",
        "\n",
        "  return vcw_dict\n"
      ],
      "execution_count": 0,
      "outputs": []
    },
    {
      "cell_type": "code",
      "metadata": {
        "id": "cHT7ia3bmVRx",
        "colab_type": "code",
        "colab": {}
      },
      "source": [
        "data[\"reviewText_vcwCount\"] = data[\"reviewText\"].apply(vcw_counter)"
      ],
      "execution_count": 0,
      "outputs": []
    },
    {
      "cell_type": "code",
      "metadata": {
        "id": "IWx02SMJml8P",
        "colab_type": "code",
        "outputId": "9f96cdd1-d0cc-4dba-dba1-a949f818e420",
        "colab": {
          "base_uri": "https://localhost:8080/",
          "height": 581
        }
      },
      "source": [
        "data.head()"
      ],
      "execution_count": 26,
      "outputs": [
        {
          "output_type": "execute_result",
          "data": {
            "text/html": [
              "<div>\n",
              "<style scoped>\n",
              "    .dataframe tbody tr th:only-of-type {\n",
              "        vertical-align: middle;\n",
              "    }\n",
              "\n",
              "    .dataframe tbody tr th {\n",
              "        vertical-align: top;\n",
              "    }\n",
              "\n",
              "    .dataframe thead th {\n",
              "        text-align: right;\n",
              "    }\n",
              "</style>\n",
              "<table border=\"1\" class=\"dataframe\">\n",
              "  <thead>\n",
              "    <tr style=\"text-align: right;\">\n",
              "      <th></th>\n",
              "      <th>reviewerID</th>\n",
              "      <th>asin</th>\n",
              "      <th>reviewerName</th>\n",
              "      <th>helpful</th>\n",
              "      <th>reviewText</th>\n",
              "      <th>overall</th>\n",
              "      <th>summary</th>\n",
              "      <th>unixReviewTime</th>\n",
              "      <th>reviewTime</th>\n",
              "      <th>reviewText_wordCount</th>\n",
              "      <th>reviewText_vcwCount</th>\n",
              "      <th>reviewText_bgWords</th>\n",
              "      <th>reviewText_nbgWords</th>\n",
              "    </tr>\n",
              "  </thead>\n",
              "  <tbody>\n",
              "    <tr>\n",
              "      <th>0</th>\n",
              "      <td>A32T2H8150OJLU</td>\n",
              "      <td>B00000JBLH</td>\n",
              "      <td>ARH</td>\n",
              "      <td>[3, 4]</td>\n",
              "      <td>I bought my first HP12C in about 1984 or so, a...</td>\n",
              "      <td>5</td>\n",
              "      <td>A solid performer, and long time friend</td>\n",
              "      <td>1094169600</td>\n",
              "      <td>09 3, 2004</td>\n",
              "      <td>{'i': 7, 'bought': 1, 'my': 4, 'first': 1, 'hp...</td>\n",
              "      <td>{'word_count': 186, 'v_count': 279, 'c_count':...</td>\n",
              "      <td>[bought ,  travelling, but , by , buy ,  49g, ...</td>\n",
              "      <td>[ bought,  my,  first,  hp12c,  in,  about,  1...</td>\n",
              "    </tr>\n",
              "    <tr>\n",
              "      <th>1</th>\n",
              "      <td>A3MAFS04ZABRGO</td>\n",
              "      <td>B00000JBLH</td>\n",
              "      <td>Let it Be \"Alan\"</td>\n",
              "      <td>[7, 9]</td>\n",
              "      <td>WHY THIS BELATED REVIEW? I feel very obliged t...</td>\n",
              "      <td>5</td>\n",
              "      <td>Price of GOLD is up, so don't bury the golden ...</td>\n",
              "      <td>1197676800</td>\n",
              "      <td>12 15, 2007</td>\n",
              "      <td>{'why': 2, 'this': 13, 'belated': 1, 'review?'...</td>\n",
              "      <td>{'word_count': 901, 'v_count': 1504, 'c_count'...</td>\n",
              "      <td>[belated ,  sharing,  burying,  praising,  inc...</td>\n",
              "      <td>[why , this ,  review,  feel,  very,  obliged,...</td>\n",
              "    </tr>\n",
              "    <tr>\n",
              "      <th>2</th>\n",
              "      <td>A1F1A0QQP2XVH5</td>\n",
              "      <td>B00000JBLH</td>\n",
              "      <td>Mark B</td>\n",
              "      <td>[3, 3]</td>\n",
              "      <td>I have an HP 48GX that has been kicking for mo...</td>\n",
              "      <td>2</td>\n",
              "      <td>Good functionality, but not durable like old HPs</td>\n",
              "      <td>1293840000</td>\n",
              "      <td>01 1, 2011</td>\n",
              "      <td>{'i': 2, 'have': 2, 'an': 2, 'hp': 3, '48gx': ...</td>\n",
              "      <td>{'word_count': 96, 'v_count': 134, 'c_count': ...</td>\n",
              "      <td>[been ,  giving, but ,  working]</td>\n",
              "      <td>[ have,  an,  hp,  48gx,  that,  has,  been, k...</td>\n",
              "    </tr>\n",
              "    <tr>\n",
              "      <th>3</th>\n",
              "      <td>A49R5DBXXQDE5</td>\n",
              "      <td>B00000JBLH</td>\n",
              "      <td>R. D Johnson</td>\n",
              "      <td>[7, 8]</td>\n",
              "      <td>I've started doing more finance stuff recently...</td>\n",
              "      <td>5</td>\n",
              "      <td>One of the last of an almost extinct species</td>\n",
              "      <td>1145404800</td>\n",
              "      <td>04 19, 2006</td>\n",
              "      <td>{'i've': 4, 'started': 1, 'doing': 2, 'more': ...</td>\n",
              "      <td>{'word_count': 603, 'v_count': 1089, 'c_count'...</td>\n",
              "      <td>[ doing,  looking, been , because ,  longlasti...</td>\n",
              "      <td>[ive , started , doing , more , finance , stuf...</td>\n",
              "    </tr>\n",
              "    <tr>\n",
              "      <th>4</th>\n",
              "      <td>A2XRMQA6PJ5ZJ8</td>\n",
              "      <td>B00000JBLH</td>\n",
              "      <td>Roger J. Buffington</td>\n",
              "      <td>[0, 0]</td>\n",
              "      <td>For simple calculations and discounted cash fl...</td>\n",
              "      <td>5</td>\n",
              "      <td>Still the best</td>\n",
              "      <td>1375574400</td>\n",
              "      <td>08 4, 2013</td>\n",
              "      <td>{'for': 4, 'simple': 1, 'calculations': 2, 'an...</td>\n",
              "      <td>{'word_count': 120, 'v_count': 208, 'c_count':...</td>\n",
              "      <td>[best , business ,  practicing, but , be , bra...</td>\n",
              "      <td>[for , simple , calculations , and , discounte...</td>\n",
              "    </tr>\n",
              "  </tbody>\n",
              "</table>\n",
              "</div>"
            ],
            "text/plain": [
              "       reviewerID  ...                                reviewText_nbgWords\n",
              "0  A32T2H8150OJLU  ...  [ bought,  my,  first,  hp12c,  in,  about,  1...\n",
              "1  A3MAFS04ZABRGO  ...  [why , this ,  review,  feel,  very,  obliged,...\n",
              "2  A1F1A0QQP2XVH5  ...  [ have,  an,  hp,  48gx,  that,  has,  been, k...\n",
              "3   A49R5DBXXQDE5  ...  [ive , started , doing , more , finance , stuf...\n",
              "4  A2XRMQA6PJ5ZJ8  ...  [for , simple , calculations , and , discounte...\n",
              "\n",
              "[5 rows x 13 columns]"
            ]
          },
          "metadata": {
            "tags": []
          },
          "execution_count": 26
        }
      ]
    },
    {
      "cell_type": "code",
      "metadata": {
        "id": "ytD3gCrtm7jo",
        "colab_type": "code",
        "outputId": "4f1657c8-d43f-48a6-f40a-b9a8ceb5d6e9",
        "colab": {
          "base_uri": "https://localhost:8080/",
          "height": 34
        }
      },
      "source": [
        "print(data.loc[18,\"reviewText_vcwCount\"])"
      ],
      "execution_count": 10,
      "outputs": [
        {
          "output_type": "stream",
          "text": [
            "{'word_count': 22, 'v_count': 35, 'c_count': 48}\n"
          ],
          "name": "stdout"
        }
      ]
    },
    {
      "cell_type": "code",
      "metadata": {
        "id": "cX0NRfVknFTX",
        "colab_type": "code",
        "colab": {}
      },
      "source": [
        "#filtering out words that start with b/B or end with g/G\n",
        "def startb_endg(text) :\n",
        "  text = text.lower()\n",
        "  text = re.sub(r'[^a-z0-9\\s]', '', text)\n",
        "  bg = re.findall(r'\\b[bB]\\w+ | \\w+[gG]\\b', text)\n",
        "  return bg"
      ],
      "execution_count": 0,
      "outputs": []
    },
    {
      "cell_type": "code",
      "metadata": {
        "id": "xRGHsl-BjXgk",
        "colab_type": "code",
        "colab": {}
      },
      "source": [
        "#filtering out words that do not start with b/B or end with g/G\n",
        "def nstartb_nendg(text) :\n",
        "  text = text.lower()\n",
        "  text = re.sub(r'[^a-z0-9\\s]', '', text)\n",
        "  bg = re.findall(r'\\b[^\\WbB]\\w+ | \\w+[^\\WgG]\\b', text)\n",
        "  return bg"
      ],
      "execution_count": 0,
      "outputs": []
    },
    {
      "cell_type": "code",
      "metadata": {
        "id": "XypAotibmSD8",
        "colab_type": "code",
        "colab": {}
      },
      "source": [
        "data[\"reviewText_bgWords\"] = data[\"reviewText\"].apply(startb_endg)"
      ],
      "execution_count": 0,
      "outputs": []
    },
    {
      "cell_type": "code",
      "metadata": {
        "id": "npZfwBj0joft",
        "colab_type": "code",
        "colab": {}
      },
      "source": [
        "data[\"reviewText_nbgWords\"] = data[\"reviewText\"].apply(nstartb_nendg)"
      ],
      "execution_count": 0,
      "outputs": []
    },
    {
      "cell_type": "code",
      "metadata": {
        "id": "Z9iCa-9umwk3",
        "colab_type": "code",
        "outputId": "631e2eb6-6411-4697-d9d9-bdaf2085202a",
        "colab": {
          "base_uri": "https://localhost:8080/",
          "height": 581
        }
      },
      "source": [
        "data.head()"
      ],
      "execution_count": 27,
      "outputs": [
        {
          "output_type": "execute_result",
          "data": {
            "text/html": [
              "<div>\n",
              "<style scoped>\n",
              "    .dataframe tbody tr th:only-of-type {\n",
              "        vertical-align: middle;\n",
              "    }\n",
              "\n",
              "    .dataframe tbody tr th {\n",
              "        vertical-align: top;\n",
              "    }\n",
              "\n",
              "    .dataframe thead th {\n",
              "        text-align: right;\n",
              "    }\n",
              "</style>\n",
              "<table border=\"1\" class=\"dataframe\">\n",
              "  <thead>\n",
              "    <tr style=\"text-align: right;\">\n",
              "      <th></th>\n",
              "      <th>reviewerID</th>\n",
              "      <th>asin</th>\n",
              "      <th>reviewerName</th>\n",
              "      <th>helpful</th>\n",
              "      <th>reviewText</th>\n",
              "      <th>overall</th>\n",
              "      <th>summary</th>\n",
              "      <th>unixReviewTime</th>\n",
              "      <th>reviewTime</th>\n",
              "      <th>reviewText_wordCount</th>\n",
              "      <th>reviewText_vcwCount</th>\n",
              "      <th>reviewText_bgWords</th>\n",
              "      <th>reviewText_nbgWords</th>\n",
              "    </tr>\n",
              "  </thead>\n",
              "  <tbody>\n",
              "    <tr>\n",
              "      <th>0</th>\n",
              "      <td>A32T2H8150OJLU</td>\n",
              "      <td>B00000JBLH</td>\n",
              "      <td>ARH</td>\n",
              "      <td>[3, 4]</td>\n",
              "      <td>I bought my first HP12C in about 1984 or so, a...</td>\n",
              "      <td>5</td>\n",
              "      <td>A solid performer, and long time friend</td>\n",
              "      <td>1094169600</td>\n",
              "      <td>09 3, 2004</td>\n",
              "      <td>{'i': 7, 'bought': 1, 'my': 4, 'first': 1, 'hp...</td>\n",
              "      <td>{'word_count': 186, 'v_count': 279, 'c_count':...</td>\n",
              "      <td>[bought ,  travelling, but , by , buy ,  49g, ...</td>\n",
              "      <td>[ bought,  my,  first,  hp12c,  in,  about,  1...</td>\n",
              "    </tr>\n",
              "    <tr>\n",
              "      <th>1</th>\n",
              "      <td>A3MAFS04ZABRGO</td>\n",
              "      <td>B00000JBLH</td>\n",
              "      <td>Let it Be \"Alan\"</td>\n",
              "      <td>[7, 9]</td>\n",
              "      <td>WHY THIS BELATED REVIEW? I feel very obliged t...</td>\n",
              "      <td>5</td>\n",
              "      <td>Price of GOLD is up, so don't bury the golden ...</td>\n",
              "      <td>1197676800</td>\n",
              "      <td>12 15, 2007</td>\n",
              "      <td>{'why': 2, 'this': 13, 'belated': 1, 'review?'...</td>\n",
              "      <td>{'word_count': 901, 'v_count': 1504, 'c_count'...</td>\n",
              "      <td>[belated ,  sharing,  burying,  praising,  inc...</td>\n",
              "      <td>[why , this ,  review,  feel,  very,  obliged,...</td>\n",
              "    </tr>\n",
              "    <tr>\n",
              "      <th>2</th>\n",
              "      <td>A1F1A0QQP2XVH5</td>\n",
              "      <td>B00000JBLH</td>\n",
              "      <td>Mark B</td>\n",
              "      <td>[3, 3]</td>\n",
              "      <td>I have an HP 48GX that has been kicking for mo...</td>\n",
              "      <td>2</td>\n",
              "      <td>Good functionality, but not durable like old HPs</td>\n",
              "      <td>1293840000</td>\n",
              "      <td>01 1, 2011</td>\n",
              "      <td>{'i': 2, 'have': 2, 'an': 2, 'hp': 3, '48gx': ...</td>\n",
              "      <td>{'word_count': 96, 'v_count': 134, 'c_count': ...</td>\n",
              "      <td>[been ,  giving, but ,  working]</td>\n",
              "      <td>[ have,  an,  hp,  48gx,  that,  has,  been, k...</td>\n",
              "    </tr>\n",
              "    <tr>\n",
              "      <th>3</th>\n",
              "      <td>A49R5DBXXQDE5</td>\n",
              "      <td>B00000JBLH</td>\n",
              "      <td>R. D Johnson</td>\n",
              "      <td>[7, 8]</td>\n",
              "      <td>I've started doing more finance stuff recently...</td>\n",
              "      <td>5</td>\n",
              "      <td>One of the last of an almost extinct species</td>\n",
              "      <td>1145404800</td>\n",
              "      <td>04 19, 2006</td>\n",
              "      <td>{'i've': 4, 'started': 1, 'doing': 2, 'more': ...</td>\n",
              "      <td>{'word_count': 603, 'v_count': 1089, 'c_count'...</td>\n",
              "      <td>[ doing,  looking, been , because ,  longlasti...</td>\n",
              "      <td>[ive , started , doing , more , finance , stuf...</td>\n",
              "    </tr>\n",
              "    <tr>\n",
              "      <th>4</th>\n",
              "      <td>A2XRMQA6PJ5ZJ8</td>\n",
              "      <td>B00000JBLH</td>\n",
              "      <td>Roger J. Buffington</td>\n",
              "      <td>[0, 0]</td>\n",
              "      <td>For simple calculations and discounted cash fl...</td>\n",
              "      <td>5</td>\n",
              "      <td>Still the best</td>\n",
              "      <td>1375574400</td>\n",
              "      <td>08 4, 2013</td>\n",
              "      <td>{'for': 4, 'simple': 1, 'calculations': 2, 'an...</td>\n",
              "      <td>{'word_count': 120, 'v_count': 208, 'c_count':...</td>\n",
              "      <td>[best , business ,  practicing, but , be , bra...</td>\n",
              "      <td>[for , simple , calculations , and , discounte...</td>\n",
              "    </tr>\n",
              "  </tbody>\n",
              "</table>\n",
              "</div>"
            ],
            "text/plain": [
              "       reviewerID  ...                                reviewText_nbgWords\n",
              "0  A32T2H8150OJLU  ...  [ bought,  my,  first,  hp12c,  in,  about,  1...\n",
              "1  A3MAFS04ZABRGO  ...  [why , this ,  review,  feel,  very,  obliged,...\n",
              "2  A1F1A0QQP2XVH5  ...  [ have,  an,  hp,  48gx,  that,  has,  been, k...\n",
              "3   A49R5DBXXQDE5  ...  [ive , started , doing , more , finance , stuf...\n",
              "4  A2XRMQA6PJ5ZJ8  ...  [for , simple , calculations , and , discounte...\n",
              "\n",
              "[5 rows x 13 columns]"
            ]
          },
          "metadata": {
            "tags": []
          },
          "execution_count": 27
        }
      ]
    },
    {
      "cell_type": "code",
      "metadata": {
        "id": "vslDi6wZmcy0",
        "colab_type": "code",
        "outputId": "4e09a847-58b8-47ab-9fa1-fc117a2434bf",
        "colab": {
          "base_uri": "https://localhost:8080/",
          "height": 54
        }
      },
      "source": [
        "print(data.loc[0,\"reviewText_bgWords\"])\n",
        "#printing words that start with b/B or end with g/G"
      ],
      "execution_count": 28,
      "outputs": [
        {
          "output_type": "stream",
          "text": [
            "['bought ', ' travelling', 'but ', 'by ', 'buy ', ' 49g', ' 49g', ' 49g', 'but ', ' 49g', 'be ', 'but ', 'best ', ' looking', 'be ', 'basic ', 'business ', 'be ', ' running', ' 49g', 'back ', 'batteries ', ' coming']\n"
          ],
          "name": "stdout"
        }
      ]
    },
    {
      "cell_type": "code",
      "metadata": {
        "id": "f6u3miZTjCYj",
        "colab_type": "code",
        "colab": {
          "base_uri": "https://localhost:8080/",
          "height": 54
        },
        "outputId": "b8077972-4c5b-46cb-9bd6-90aa031de28a"
      },
      "source": [
        "print(data.loc[0,\"reviewText_nbgWords\"])\n",
        "#printing words that do not start with b/B or end with g/G"
      ],
      "execution_count": 25,
      "outputs": [
        {
          "output_type": "stream",
          "text": [
            "[' bought', ' my', ' first', ' hp12c', ' in', ' about', ' 1984', ' or', ' so', ' and', ' it', ' served', ' me', ' faithfully', ' until', ' 2002', ' when', ' lost', ' it', ' while', 'travelling ', ' searched', ' for', ' another', ' one', ' to', ' replace', ' it', ' but', ' found', ' one', ' difficult', ' to', ' come', ' by', ' in', ' my', ' area', ' so', ' decided', ' to', ' buy', ' up', ' and', ' purchased', ' an', ' hp', '49g ', ' what', ' mistake', ' know', ' that', ' many', ' people', ' view', ' the', ' hp', '49g ', 'now ', '49g ', 'as ', 'the ', 'flagship ', 'of ', 'the ', 'hp ', 'line ', ' for', ' me', ' that', ' was', ' disasterthe', '49g ', 'may ', ' powerful', ' but', 'using ', 'it ', 'is ', 'extremely ', 'counterintuitiveand ', 'the ', 'manual ', 'was ', 'sketchy ', 'at ', ' the', ' 12c', ' on', ' the', ' other', ' hand', ' does', ' what', ' need', ' in', ' way', ' that', ' makes', ' good', ' sense', ' to', ' meif', ' you', ' are', 'looking ', 'for ', ' solid', ' reliable', ' calculator', ' the', ' hp12c', ' may', ' be', ' for', ' you', ' its', ' programmable', ' it', ' does', ' basic', ' statistics', ' well', ' and', ' many', ' business', ' applications', ' too', ' the', ' manual', ' makes', ' sense', ' you', ' will', ' be', ' up', ' and', 'running ', 'in ', 'short ', 'orderim ', 'ready ', 'to ', 'set ', 'my ', '49g ', 'aside ', 'and ', 'move ', ' to', ' my', ' old', ' friend', ' didnt', ' even', ' have', ' to', ' replace', ' the', ' batteries', ' in', ' well', ' over', ' decade', ' of', ' usehp', ' 12c', ' im', 'coming ']\n"
          ],
          "name": "stdout"
        }
      ]
    }
  ]
}