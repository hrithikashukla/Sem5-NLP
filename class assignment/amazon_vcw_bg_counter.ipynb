{
  "nbformat": 4,
  "nbformat_minor": 0,
  "metadata": {
    "colab": {
      "name": "amazon_vcw_bg_counter.ipynb",
      "provenance": [],
      "collapsed_sections": [],
      "include_colab_link": true
    },
    "kernelspec": {
      "name": "python3",
      "display_name": "Python 3"
    }
  },
  "cells": [
    {
      "cell_type": "markdown",
      "metadata": {
        "id": "view-in-github",
        "colab_type": "text"
      },
      "source": [
        "<a href=\"https://colab.research.google.com/github/hrithikashukla/Sem5-NLP/blob/master/class%20assignment/amazon_vcw_bg_counter.ipynb\" target=\"_parent\"><img src=\"https://colab.research.google.com/assets/colab-badge.svg\" alt=\"Open In Colab\"/></a>"
      ]
    },
    {
      "cell_type": "code",
      "metadata": {
        "id": "W9ujr1gkhxr0",
        "colab_type": "code",
        "colab": {}
      },
      "source": [
        "import pandas as pd\n",
        "import re"
      ],
      "execution_count": 0,
      "outputs": []
    },
    {
      "cell_type": "code",
      "metadata": {
        "id": "OMvwcL2liHl_",
        "colab_type": "code",
        "colab": {}
      },
      "source": [
        "data = pd.read_json(\"http://snap.stanford.edu/data/amazon/productGraph/categoryFiles/reviews_Office_Products_5.json.gz\",lines = True)"
      ],
      "execution_count": 0,
      "outputs": []
    },
    {
      "cell_type": "code",
      "metadata": {
        "id": "bt9PE1oCiaif",
        "colab_type": "code",
        "outputId": "da20cf27-3b7d-4dc9-8351-f7dbf7faed28",
        "colab": {
          "base_uri": "https://localhost:8080/",
          "height": 289
        }
      },
      "source": [
        "data.head()"
      ],
      "execution_count": 6,
      "outputs": [
        {
          "output_type": "execute_result",
          "data": {
            "text/html": [
              "<div>\n",
              "<style scoped>\n",
              "    .dataframe tbody tr th:only-of-type {\n",
              "        vertical-align: middle;\n",
              "    }\n",
              "\n",
              "    .dataframe tbody tr th {\n",
              "        vertical-align: top;\n",
              "    }\n",
              "\n",
              "    .dataframe thead th {\n",
              "        text-align: right;\n",
              "    }\n",
              "</style>\n",
              "<table border=\"1\" class=\"dataframe\">\n",
              "  <thead>\n",
              "    <tr style=\"text-align: right;\">\n",
              "      <th></th>\n",
              "      <th>reviewerID</th>\n",
              "      <th>asin</th>\n",
              "      <th>reviewerName</th>\n",
              "      <th>helpful</th>\n",
              "      <th>reviewText</th>\n",
              "      <th>overall</th>\n",
              "      <th>summary</th>\n",
              "      <th>unixReviewTime</th>\n",
              "      <th>reviewTime</th>\n",
              "    </tr>\n",
              "  </thead>\n",
              "  <tbody>\n",
              "    <tr>\n",
              "      <th>0</th>\n",
              "      <td>A32T2H8150OJLU</td>\n",
              "      <td>B00000JBLH</td>\n",
              "      <td>ARH</td>\n",
              "      <td>[3, 4]</td>\n",
              "      <td>I bought my first HP12C in about 1984 or so, a...</td>\n",
              "      <td>5</td>\n",
              "      <td>A solid performer, and long time friend</td>\n",
              "      <td>1094169600</td>\n",
              "      <td>09 3, 2004</td>\n",
              "    </tr>\n",
              "    <tr>\n",
              "      <th>1</th>\n",
              "      <td>A3MAFS04ZABRGO</td>\n",
              "      <td>B00000JBLH</td>\n",
              "      <td>Let it Be \"Alan\"</td>\n",
              "      <td>[7, 9]</td>\n",
              "      <td>WHY THIS BELATED REVIEW? I feel very obliged t...</td>\n",
              "      <td>5</td>\n",
              "      <td>Price of GOLD is up, so don't bury the golden ...</td>\n",
              "      <td>1197676800</td>\n",
              "      <td>12 15, 2007</td>\n",
              "    </tr>\n",
              "    <tr>\n",
              "      <th>2</th>\n",
              "      <td>A1F1A0QQP2XVH5</td>\n",
              "      <td>B00000JBLH</td>\n",
              "      <td>Mark B</td>\n",
              "      <td>[3, 3]</td>\n",
              "      <td>I have an HP 48GX that has been kicking for mo...</td>\n",
              "      <td>2</td>\n",
              "      <td>Good functionality, but not durable like old HPs</td>\n",
              "      <td>1293840000</td>\n",
              "      <td>01 1, 2011</td>\n",
              "    </tr>\n",
              "    <tr>\n",
              "      <th>3</th>\n",
              "      <td>A49R5DBXXQDE5</td>\n",
              "      <td>B00000JBLH</td>\n",
              "      <td>R. D Johnson</td>\n",
              "      <td>[7, 8]</td>\n",
              "      <td>I've started doing more finance stuff recently...</td>\n",
              "      <td>5</td>\n",
              "      <td>One of the last of an almost extinct species</td>\n",
              "      <td>1145404800</td>\n",
              "      <td>04 19, 2006</td>\n",
              "    </tr>\n",
              "    <tr>\n",
              "      <th>4</th>\n",
              "      <td>A2XRMQA6PJ5ZJ8</td>\n",
              "      <td>B00000JBLH</td>\n",
              "      <td>Roger J. Buffington</td>\n",
              "      <td>[0, 0]</td>\n",
              "      <td>For simple calculations and discounted cash fl...</td>\n",
              "      <td>5</td>\n",
              "      <td>Still the best</td>\n",
              "      <td>1375574400</td>\n",
              "      <td>08 4, 2013</td>\n",
              "    </tr>\n",
              "  </tbody>\n",
              "</table>\n",
              "</div>"
            ],
            "text/plain": [
              "       reviewerID        asin  ... unixReviewTime   reviewTime\n",
              "0  A32T2H8150OJLU  B00000JBLH  ...     1094169600   09 3, 2004\n",
              "1  A3MAFS04ZABRGO  B00000JBLH  ...     1197676800  12 15, 2007\n",
              "2  A1F1A0QQP2XVH5  B00000JBLH  ...     1293840000   01 1, 2011\n",
              "3   A49R5DBXXQDE5  B00000JBLH  ...     1145404800  04 19, 2006\n",
              "4  A2XRMQA6PJ5ZJ8  B00000JBLH  ...     1375574400   08 4, 2013\n",
              "\n",
              "[5 rows x 9 columns]"
            ]
          },
          "metadata": {
            "tags": []
          },
          "execution_count": 6
        }
      ]
    },
    {
      "cell_type": "code",
      "metadata": {
        "id": "DOZo2pHaij-U",
        "colab_type": "code",
        "colab": {}
      },
      "source": [
        "def word_counter(text) :\n",
        "  text = text.lower()\n",
        "  word_list = text.split()\n",
        "  word_count = {}\n",
        "\n",
        "  for word in word_list:\n",
        "    if word in word_count:\n",
        "      word_count[word] += 1\n",
        "    else :\n",
        "      word_count[word] = 1  \n",
        "      \n",
        "  return word_count"
      ],
      "execution_count": 0,
      "outputs": []
    },
    {
      "cell_type": "code",
      "metadata": {
        "id": "MFPxD4Bnjlff",
        "colab_type": "code",
        "colab": {}
      },
      "source": [
        "data[\"reviewText_wordCount\"] = data[\"reviewText\"].apply(word_counter)"
      ],
      "execution_count": 0,
      "outputs": []
    },
    {
      "cell_type": "code",
      "metadata": {
        "id": "TYW6VIzzmTPf",
        "colab_type": "code",
        "outputId": "68a9ea1c-a82f-4914-ffdc-bf10154c0998",
        "colab": {
          "base_uri": "https://localhost:8080/",
          "height": 71
        }
      },
      "source": [
        "print(data.loc[18,\"reviewText\"])\n",
        "print(data.loc[18,\"reviewText_wordCount\"])"
      ],
      "execution_count": 9,
      "outputs": [
        {
          "output_type": "stream",
          "text": [
            "This is a good calculator, does what it is supposed to, great color, easy to take on the road when I travel.\n",
            "{'this': 1, 'is': 2, 'a': 1, 'good': 1, 'calculator,': 1, 'does': 1, 'what': 1, 'it': 1, 'supposed': 1, 'to,': 1, 'great': 1, 'color,': 1, 'easy': 1, 'to': 1, 'take': 1, 'on': 1, 'the': 1, 'road': 1, 'when': 1, 'i': 1, 'travel.': 1}\n"
          ],
          "name": "stdout"
        }
      ]
    },
    {
      "cell_type": "code",
      "metadata": {
        "id": "8YxK4OlUiiU6",
        "colab_type": "code",
        "colab": {}
      },
      "source": [
        "def vcw_counter(text) :\n",
        "  text = text.lower()\n",
        "  text = re.sub(r'[^a-z0-9\\s]', '', text)\n",
        "  word_list = text.split()\n",
        "  vcw_dict = {}\n",
        "  word_list = text.split()\n",
        "  vowel_count = 0\n",
        "  consonant_count = 0\n",
        "\n",
        "  vcw_dict[\"word_count\"] = len(word_list)\n",
        "  text = text.replace(\" \",\"\")\n",
        "  for i in text:\n",
        "    if i.isalpha():\n",
        "      if i in ['a','e','i','o','u']:\n",
        "        vowel_count += 1\n",
        "      else:\n",
        "        consonant_count += 1\n",
        "  \n",
        "  vcw_dict[\"v_count\"] = vowel_count\n",
        "  vcw_dict[\"c_count\"] = consonant_count\n",
        "\n",
        "  return vcw_dict\n"
      ],
      "execution_count": 0,
      "outputs": []
    },
    {
      "cell_type": "code",
      "metadata": {
        "id": "cHT7ia3bmVRx",
        "colab_type": "code",
        "colab": {}
      },
      "source": [
        "data[\"reviewText_vcwCount\"] = data[\"reviewText\"].apply(vcw_counter)"
      ],
      "execution_count": 0,
      "outputs": []
    },
    {
      "cell_type": "code",
      "metadata": {
        "id": "IWx02SMJml8P",
        "colab_type": "code",
        "outputId": "1eef1f70-27de-4c46-dc12-5744c08f0b9c",
        "colab": {
          "base_uri": "https://localhost:8080/",
          "height": 581
        }
      },
      "source": [
        "data.head()"
      ],
      "execution_count": 12,
      "outputs": [
        {
          "output_type": "execute_result",
          "data": {
            "text/html": [
              "<div>\n",
              "<style scoped>\n",
              "    .dataframe tbody tr th:only-of-type {\n",
              "        vertical-align: middle;\n",
              "    }\n",
              "\n",
              "    .dataframe tbody tr th {\n",
              "        vertical-align: top;\n",
              "    }\n",
              "\n",
              "    .dataframe thead th {\n",
              "        text-align: right;\n",
              "    }\n",
              "</style>\n",
              "<table border=\"1\" class=\"dataframe\">\n",
              "  <thead>\n",
              "    <tr style=\"text-align: right;\">\n",
              "      <th></th>\n",
              "      <th>reviewerID</th>\n",
              "      <th>asin</th>\n",
              "      <th>reviewerName</th>\n",
              "      <th>helpful</th>\n",
              "      <th>reviewText</th>\n",
              "      <th>overall</th>\n",
              "      <th>summary</th>\n",
              "      <th>unixReviewTime</th>\n",
              "      <th>reviewTime</th>\n",
              "      <th>reviewText_wordCount</th>\n",
              "      <th>reviewText_vcwCount</th>\n",
              "    </tr>\n",
              "  </thead>\n",
              "  <tbody>\n",
              "    <tr>\n",
              "      <th>0</th>\n",
              "      <td>A32T2H8150OJLU</td>\n",
              "      <td>B00000JBLH</td>\n",
              "      <td>ARH</td>\n",
              "      <td>[3, 4]</td>\n",
              "      <td>I bought my first HP12C in about 1984 or so, a...</td>\n",
              "      <td>5</td>\n",
              "      <td>A solid performer, and long time friend</td>\n",
              "      <td>1094169600</td>\n",
              "      <td>09 3, 2004</td>\n",
              "      <td>{'i': 7, 'bought': 1, 'my': 4, 'first': 1, 'hp...</td>\n",
              "      <td>{'word_count': 186, 'v_count': 279, 'c_count':...</td>\n",
              "    </tr>\n",
              "    <tr>\n",
              "      <th>1</th>\n",
              "      <td>A3MAFS04ZABRGO</td>\n",
              "      <td>B00000JBLH</td>\n",
              "      <td>Let it Be \"Alan\"</td>\n",
              "      <td>[7, 9]</td>\n",
              "      <td>WHY THIS BELATED REVIEW? I feel very obliged t...</td>\n",
              "      <td>5</td>\n",
              "      <td>Price of GOLD is up, so don't bury the golden ...</td>\n",
              "      <td>1197676800</td>\n",
              "      <td>12 15, 2007</td>\n",
              "      <td>{'why': 2, 'this': 13, 'belated': 1, 'review?'...</td>\n",
              "      <td>{'word_count': 901, 'v_count': 1504, 'c_count'...</td>\n",
              "    </tr>\n",
              "    <tr>\n",
              "      <th>2</th>\n",
              "      <td>A1F1A0QQP2XVH5</td>\n",
              "      <td>B00000JBLH</td>\n",
              "      <td>Mark B</td>\n",
              "      <td>[3, 3]</td>\n",
              "      <td>I have an HP 48GX that has been kicking for mo...</td>\n",
              "      <td>2</td>\n",
              "      <td>Good functionality, but not durable like old HPs</td>\n",
              "      <td>1293840000</td>\n",
              "      <td>01 1, 2011</td>\n",
              "      <td>{'i': 2, 'have': 2, 'an': 2, 'hp': 3, '48gx': ...</td>\n",
              "      <td>{'word_count': 96, 'v_count': 134, 'c_count': ...</td>\n",
              "    </tr>\n",
              "    <tr>\n",
              "      <th>3</th>\n",
              "      <td>A49R5DBXXQDE5</td>\n",
              "      <td>B00000JBLH</td>\n",
              "      <td>R. D Johnson</td>\n",
              "      <td>[7, 8]</td>\n",
              "      <td>I've started doing more finance stuff recently...</td>\n",
              "      <td>5</td>\n",
              "      <td>One of the last of an almost extinct species</td>\n",
              "      <td>1145404800</td>\n",
              "      <td>04 19, 2006</td>\n",
              "      <td>{'i've': 4, 'started': 1, 'doing': 2, 'more': ...</td>\n",
              "      <td>{'word_count': 603, 'v_count': 1089, 'c_count'...</td>\n",
              "    </tr>\n",
              "    <tr>\n",
              "      <th>4</th>\n",
              "      <td>A2XRMQA6PJ5ZJ8</td>\n",
              "      <td>B00000JBLH</td>\n",
              "      <td>Roger J. Buffington</td>\n",
              "      <td>[0, 0]</td>\n",
              "      <td>For simple calculations and discounted cash fl...</td>\n",
              "      <td>5</td>\n",
              "      <td>Still the best</td>\n",
              "      <td>1375574400</td>\n",
              "      <td>08 4, 2013</td>\n",
              "      <td>{'for': 4, 'simple': 1, 'calculations': 2, 'an...</td>\n",
              "      <td>{'word_count': 120, 'v_count': 208, 'c_count':...</td>\n",
              "    </tr>\n",
              "  </tbody>\n",
              "</table>\n",
              "</div>"
            ],
            "text/plain": [
              "       reviewerID  ...                                reviewText_vcwCount\n",
              "0  A32T2H8150OJLU  ...  {'word_count': 186, 'v_count': 279, 'c_count':...\n",
              "1  A3MAFS04ZABRGO  ...  {'word_count': 901, 'v_count': 1504, 'c_count'...\n",
              "2  A1F1A0QQP2XVH5  ...  {'word_count': 96, 'v_count': 134, 'c_count': ...\n",
              "3   A49R5DBXXQDE5  ...  {'word_count': 603, 'v_count': 1089, 'c_count'...\n",
              "4  A2XRMQA6PJ5ZJ8  ...  {'word_count': 120, 'v_count': 208, 'c_count':...\n",
              "\n",
              "[5 rows x 11 columns]"
            ]
          },
          "metadata": {
            "tags": []
          },
          "execution_count": 12
        }
      ]
    },
    {
      "cell_type": "code",
      "metadata": {
        "id": "ytD3gCrtm7jo",
        "colab_type": "code",
        "outputId": "98084ebc-1f18-4427-b193-f6ae1611f6cd",
        "colab": {
          "base_uri": "https://localhost:8080/",
          "height": 34
        }
      },
      "source": [
        "print(data.loc[18,\"reviewText_vcwCount\"])"
      ],
      "execution_count": 13,
      "outputs": [
        {
          "output_type": "stream",
          "text": [
            "{'word_count': 22, 'v_count': 35, 'c_count': 48}\n"
          ],
          "name": "stdout"
        }
      ]
    },
    {
      "cell_type": "code",
      "metadata": {
        "id": "cX0NRfVknFTX",
        "colab_type": "code",
        "colab": {}
      },
      "source": [
        "def startb_endg(text) :\n",
        "  text = text.lower()\n",
        "  text = re.sub(r'[^a-z0-9\\s]', '', text)\n",
        "  bg = re.findall(r'\\b[bB]\\w+ | \\w+[gG]\\b', text)\n",
        "  return bg"
      ],
      "execution_count": 0,
      "outputs": []
    },
    {
      "cell_type": "code",
      "metadata": {
        "id": "XypAotibmSD8",
        "colab_type": "code",
        "colab": {}
      },
      "source": [
        "data[\"reviewText_bgWords\"] = data[\"reviewText\"].apply(startb_endg)"
      ],
      "execution_count": 0,
      "outputs": []
    },
    {
      "cell_type": "code",
      "metadata": {
        "id": "Z9iCa-9umwk3",
        "colab_type": "code",
        "colab": {
          "base_uri": "https://localhost:8080/",
          "height": 581
        },
        "outputId": "7a4d6a7b-ef47-4bc0-9e49-8c371e5f8ed7"
      },
      "source": [
        "data.head()"
      ],
      "execution_count": 19,
      "outputs": [
        {
          "output_type": "execute_result",
          "data": {
            "text/html": [
              "<div>\n",
              "<style scoped>\n",
              "    .dataframe tbody tr th:only-of-type {\n",
              "        vertical-align: middle;\n",
              "    }\n",
              "\n",
              "    .dataframe tbody tr th {\n",
              "        vertical-align: top;\n",
              "    }\n",
              "\n",
              "    .dataframe thead th {\n",
              "        text-align: right;\n",
              "    }\n",
              "</style>\n",
              "<table border=\"1\" class=\"dataframe\">\n",
              "  <thead>\n",
              "    <tr style=\"text-align: right;\">\n",
              "      <th></th>\n",
              "      <th>reviewerID</th>\n",
              "      <th>asin</th>\n",
              "      <th>reviewerName</th>\n",
              "      <th>helpful</th>\n",
              "      <th>reviewText</th>\n",
              "      <th>overall</th>\n",
              "      <th>summary</th>\n",
              "      <th>unixReviewTime</th>\n",
              "      <th>reviewTime</th>\n",
              "      <th>reviewText_wordCount</th>\n",
              "      <th>reviewText_vcwCount</th>\n",
              "      <th>reviewText_bgWords</th>\n",
              "    </tr>\n",
              "  </thead>\n",
              "  <tbody>\n",
              "    <tr>\n",
              "      <th>0</th>\n",
              "      <td>A32T2H8150OJLU</td>\n",
              "      <td>B00000JBLH</td>\n",
              "      <td>ARH</td>\n",
              "      <td>[3, 4]</td>\n",
              "      <td>I bought my first HP12C in about 1984 or so, a...</td>\n",
              "      <td>5</td>\n",
              "      <td>A solid performer, and long time friend</td>\n",
              "      <td>1094169600</td>\n",
              "      <td>09 3, 2004</td>\n",
              "      <td>{'i': 7, 'bought': 1, 'my': 4, 'first': 1, 'hp...</td>\n",
              "      <td>{'word_count': 186, 'v_count': 279, 'c_count':...</td>\n",
              "      <td>[bought ,  travelling, but , by , buy ,  49g, ...</td>\n",
              "    </tr>\n",
              "    <tr>\n",
              "      <th>1</th>\n",
              "      <td>A3MAFS04ZABRGO</td>\n",
              "      <td>B00000JBLH</td>\n",
              "      <td>Let it Be \"Alan\"</td>\n",
              "      <td>[7, 9]</td>\n",
              "      <td>WHY THIS BELATED REVIEW? I feel very obliged t...</td>\n",
              "      <td>5</td>\n",
              "      <td>Price of GOLD is up, so don't bury the golden ...</td>\n",
              "      <td>1197676800</td>\n",
              "      <td>12 15, 2007</td>\n",
              "      <td>{'why': 2, 'this': 13, 'belated': 1, 'review?'...</td>\n",
              "      <td>{'word_count': 901, 'v_count': 1504, 'c_count'...</td>\n",
              "      <td>[belated ,  sharing,  burying,  praising,  inc...</td>\n",
              "    </tr>\n",
              "    <tr>\n",
              "      <th>2</th>\n",
              "      <td>A1F1A0QQP2XVH5</td>\n",
              "      <td>B00000JBLH</td>\n",
              "      <td>Mark B</td>\n",
              "      <td>[3, 3]</td>\n",
              "      <td>I have an HP 48GX that has been kicking for mo...</td>\n",
              "      <td>2</td>\n",
              "      <td>Good functionality, but not durable like old HPs</td>\n",
              "      <td>1293840000</td>\n",
              "      <td>01 1, 2011</td>\n",
              "      <td>{'i': 2, 'have': 2, 'an': 2, 'hp': 3, '48gx': ...</td>\n",
              "      <td>{'word_count': 96, 'v_count': 134, 'c_count': ...</td>\n",
              "      <td>[been ,  giving, but ,  working]</td>\n",
              "    </tr>\n",
              "    <tr>\n",
              "      <th>3</th>\n",
              "      <td>A49R5DBXXQDE5</td>\n",
              "      <td>B00000JBLH</td>\n",
              "      <td>R. D Johnson</td>\n",
              "      <td>[7, 8]</td>\n",
              "      <td>I've started doing more finance stuff recently...</td>\n",
              "      <td>5</td>\n",
              "      <td>One of the last of an almost extinct species</td>\n",
              "      <td>1145404800</td>\n",
              "      <td>04 19, 2006</td>\n",
              "      <td>{'i've': 4, 'started': 1, 'doing': 2, 'more': ...</td>\n",
              "      <td>{'word_count': 603, 'v_count': 1089, 'c_count'...</td>\n",
              "      <td>[ doing,  looking, been , because ,  longlasti...</td>\n",
              "    </tr>\n",
              "    <tr>\n",
              "      <th>4</th>\n",
              "      <td>A2XRMQA6PJ5ZJ8</td>\n",
              "      <td>B00000JBLH</td>\n",
              "      <td>Roger J. Buffington</td>\n",
              "      <td>[0, 0]</td>\n",
              "      <td>For simple calculations and discounted cash fl...</td>\n",
              "      <td>5</td>\n",
              "      <td>Still the best</td>\n",
              "      <td>1375574400</td>\n",
              "      <td>08 4, 2013</td>\n",
              "      <td>{'for': 4, 'simple': 1, 'calculations': 2, 'an...</td>\n",
              "      <td>{'word_count': 120, 'v_count': 208, 'c_count':...</td>\n",
              "      <td>[best , business ,  practicing, but , be , bra...</td>\n",
              "    </tr>\n",
              "  </tbody>\n",
              "</table>\n",
              "</div>"
            ],
            "text/plain": [
              "       reviewerID  ...                                 reviewText_bgWords\n",
              "0  A32T2H8150OJLU  ...  [bought ,  travelling, but , by , buy ,  49g, ...\n",
              "1  A3MAFS04ZABRGO  ...  [belated ,  sharing,  burying,  praising,  inc...\n",
              "2  A1F1A0QQP2XVH5  ...                   [been ,  giving, but ,  working]\n",
              "3   A49R5DBXXQDE5  ...  [ doing,  looking, been , because ,  longlasti...\n",
              "4  A2XRMQA6PJ5ZJ8  ...  [best , business ,  practicing, but , be , bra...\n",
              "\n",
              "[5 rows x 12 columns]"
            ]
          },
          "metadata": {
            "tags": []
          },
          "execution_count": 19
        }
      ]
    },
    {
      "cell_type": "code",
      "metadata": {
        "id": "vslDi6wZmcy0",
        "colab_type": "code",
        "colab": {
          "base_uri": "https://localhost:8080/",
          "height": 54
        },
        "outputId": "11594be8-dabf-4ddb-d5af-3a9d39926890"
      },
      "source": [
        "print(data.loc[0,\"reviewText_bgWords\"])"
      ],
      "execution_count": 20,
      "outputs": [
        {
          "output_type": "stream",
          "text": [
            "['bought ', ' travelling', 'but ', 'by ', 'buy ', ' 49g', ' 49g', ' 49g', 'but ', ' 49g', 'be ', 'but ', 'best ', ' looking', 'be ', 'basic ', 'business ', 'be ', ' running', ' 49g', 'back ', 'batteries ', ' coming']\n"
          ],
          "name": "stdout"
        }
      ]
    }
  ]
}