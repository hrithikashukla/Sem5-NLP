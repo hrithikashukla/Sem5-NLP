{
  "nbformat": 4,
  "nbformat_minor": 0,
  "metadata": {
    "colab": {
      "name": "Nth_prime_number.ipynb",
      "provenance": [],
      "collapsed_sections": [],
      "include_colab_link": true
    },
    "kernelspec": {
      "name": "python3",
      "display_name": "Python 3"
    }
  },
  "cells": [
    {
      "cell_type": "markdown",
      "metadata": {
        "id": "view-in-github",
        "colab_type": "text"
      },
      "source": [
        "<a href=\"https://colab.research.google.com/github/hrithikashukla/Sem5-NLP/blob/master/class%20assignment/Nth_prime_number.ipynb\" target=\"_parent\"><img src=\"https://colab.research.google.com/assets/colab-badge.svg\" alt=\"Open In Colab\"/></a>"
      ]
    },
    {
      "cell_type": "code",
      "metadata": {
        "id": "f3qxixCoV7OQ",
        "colab_type": "code",
        "colab": {}
      },
      "source": [
        "def if_prime(n) :\n",
        "  if n == 2:\n",
        "    return True\n",
        "  elif n % 2 == 0 :\n",
        "    return False\n",
        "  else:\n",
        "    for i in range(3,int(n**0.5)+1):\n",
        "      if n % i == 0 :\n",
        "        return False\n",
        "    return True "
      ],
      "execution_count": 0,
      "outputs": []
    },
    {
      "cell_type": "code",
      "metadata": {
        "id": "l8kN633gXGjZ",
        "colab_type": "code",
        "outputId": "f69c7b61-af13-4f9a-9b26-b0838bd8a948",
        "colab": {
          "base_uri": "https://localhost:8080/",
          "height": 34
        }
      },
      "source": [
        "n = int(input(\"Enter Number: \"))"
      ],
      "execution_count": 0,
      "outputs": [
        {
          "output_type": "stream",
          "text": [
            "Enter Number: 560\n"
          ],
          "name": "stdout"
        }
      ]
    },
    {
      "cell_type": "code",
      "metadata": {
        "id": "lYLXoIERWmCs",
        "colab_type": "code",
        "outputId": "08fbf4d0-057c-468d-e19a-57b183aa7ef9",
        "colab": {
          "base_uri": "https://localhost:8080/",
          "height": 34
        }
      },
      "source": [
        "prime = []\n",
        "l = 2\n",
        "\n",
        "while len(prime) < n:\n",
        "  if if_prime(l):\n",
        "    prime.append(l)\n",
        "  l += 1\n",
        "\n",
        "print(prime[-1])  \n",
        "\n",
        "\n",
        "\n"
      ],
      "execution_count": 0,
      "outputs": [
        {
          "output_type": "stream",
          "text": [
            "4057\n"
          ],
          "name": "stdout"
        }
      ]
    }
  ]
}