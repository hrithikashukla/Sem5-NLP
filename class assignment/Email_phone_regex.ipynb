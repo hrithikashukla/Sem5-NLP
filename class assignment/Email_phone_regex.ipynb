{
  "nbformat": 4,
  "nbformat_minor": 0,
  "metadata": {
    "colab": {
      "name": "Email_phone_regex.ipynb",
      "provenance": [],
      "collapsed_sections": [],
      "authorship_tag": "ABX9TyMRc1QyPYTnrDq59BR3CAiQ",
      "include_colab_link": true
    },
    "kernelspec": {
      "name": "python3",
      "display_name": "Python 3"
    }
  },
  "cells": [
    {
      "cell_type": "markdown",
      "metadata": {
        "id": "view-in-github",
        "colab_type": "text"
      },
      "source": [
        "<a href=\"https://colab.research.google.com/github/hrithikashukla/Sem6-NLP/blob/master/class%20assignment/Email_phone_regex.ipynb\" target=\"_parent\"><img src=\"https://colab.research.google.com/assets/colab-badge.svg\" alt=\"Open In Colab\"/></a>"
      ]
    },
    {
      "cell_type": "code",
      "metadata": {
        "id": "etmjfi4n519F",
        "colab_type": "code",
        "colab": {}
      },
      "source": [
        "import re"
      ],
      "execution_count": 0,
      "outputs": []
    },
    {
      "cell_type": "code",
      "metadata": {
        "id": "f7IY1-2_75ep",
        "colab_type": "code",
        "colab": {}
      },
      "source": [
        "def number(str):\n",
        "  num = re.findall(r'[0-9]{10}', str) \n",
        "  return num"
      ],
      "execution_count": 0,
      "outputs": []
    },
    {
      "cell_type": "code",
      "metadata": {
        "id": "KjT3vt2C9H9F",
        "colab_type": "code",
        "outputId": "2360952f-2f22-4fb8-fbba-b733fc4078e0",
        "colab": {
          "base_uri": "https://localhost:8080/",
          "height": 34
        }
      },
      "source": [
        "number(\"uhxbeuhciecoec9234567893ucbzn\")"
      ],
      "execution_count": 0,
      "outputs": [
        {
          "output_type": "execute_result",
          "data": {
            "text/plain": [
              "['9234567893']"
            ]
          },
          "metadata": {
            "tags": []
          },
          "execution_count": 18
        }
      ]
    },
    {
      "cell_type": "code",
      "metadata": {
        "id": "ni_blqhp9PLc",
        "colab_type": "code",
        "colab": {}
      },
      "source": [
        "def mail_id(str):\n",
        "  lst = re.findall('\\S+@\\S+', str)\n",
        "  return lst   "
      ],
      "execution_count": 0,
      "outputs": []
    },
    {
      "cell_type": "code",
      "metadata": {
        "id": "PpUlfpht-vj_",
        "colab_type": "code",
        "outputId": "9525d6cf-f3d6-431b-9ad0-fa6d335e1a10",
        "colab": {
          "base_uri": "https://localhost:8080/",
          "height": 34
        }
      },
      "source": [
        "mail_id(\"hello my id is abc@xyz.com and lmn@asd.in\")"
      ],
      "execution_count": 0,
      "outputs": [
        {
          "output_type": "execute_result",
          "data": {
            "text/plain": [
              "['abc@xyz.com', 'lmn@asd.in']"
            ]
          },
          "metadata": {
            "tags": []
          },
          "execution_count": 20
        }
      ]
    }
  ]
}