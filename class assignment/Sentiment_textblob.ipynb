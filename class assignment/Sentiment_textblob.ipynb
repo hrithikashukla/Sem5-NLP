{
  "nbformat": 4,
  "nbformat_minor": 0,
  "metadata": {
    "colab": {
      "name": "Sentiment_textblob.ipynb",
      "provenance": [],
      "collapsed_sections": [],
      "authorship_tag": "ABX9TyNib5vtR3Wyib98d2YcThYN",
      "include_colab_link": true
    },
    "kernelspec": {
      "name": "python3",
      "display_name": "Python 3"
    }
  },
  "cells": [
    {
      "cell_type": "markdown",
      "metadata": {
        "id": "view-in-github",
        "colab_type": "text"
      },
      "source": [
        "<a href=\"https://colab.research.google.com/github/hrithikashukla/Sem6-NLP/blob/master/class%20assignment/Sentiment_textblob.ipynb\" target=\"_parent\"><img src=\"https://colab.research.google.com/assets/colab-badge.svg\" alt=\"Open In Colab\"/></a>"
      ]
    },
    {
      "cell_type": "code",
      "metadata": {
        "id": "9NOhvwJGAr-Q",
        "colab_type": "code",
        "colab": {}
      },
      "source": [
        "import pandas as pd\n",
        "import re\n",
        "import numpy as np\n",
        "from sklearn.metrics import confusion_matrix, accuracy_score"
      ],
      "execution_count": 0,
      "outputs": []
    },
    {
      "cell_type": "code",
      "metadata": {
        "id": "b5vKfKZQBtA0",
        "colab_type": "code",
        "outputId": "a9d3d2ee-a12a-419e-dd2c-77967c9c9157",
        "colab": {
          "base_uri": "https://localhost:8080/",
          "height": 102
        }
      },
      "source": [
        "from textblob import TextBlob\n",
        "import nltk\n",
        "nltk.download('punkt')\n",
        "nltk.download('vader_lexicon')"
      ],
      "execution_count": 0,
      "outputs": [
        {
          "output_type": "stream",
          "text": [
            "[nltk_data] Downloading package punkt to /root/nltk_data...\n",
            "[nltk_data]   Package punkt is already up-to-date!\n",
            "[nltk_data] Downloading package vader_lexicon to /root/nltk_data...\n",
            "[nltk_data]   Package vader_lexicon is already up-to-date!\n"
          ],
          "name": "stdout"
        },
        {
          "output_type": "execute_result",
          "data": {
            "text/plain": [
              "True"
            ]
          },
          "metadata": {
            "tags": []
          },
          "execution_count": 33
        }
      ]
    },
    {
      "cell_type": "code",
      "metadata": {
        "id": "kd4ZCYhmE4Ul",
        "colab_type": "code",
        "outputId": "5a0c1c05-f8fc-448a-e7f2-62f565ad43af",
        "colab": {
          "base_uri": "https://localhost:8080/",
          "height": 204
        }
      },
      "source": [
        "twitter=pd.read_csv('https://raw.githubusercontent.com/zfz/twitter_corpus/master/full-corpus.csv',error_bad_lines=False)\n",
        "amazon=pd.read_json(\"http://snap.stanford.edu/data/amazon/productGraph/categoryFiles/reviews_Office_Products_5.json.gz\",lines=True)\n",
        "twitter=twitter[twitter['Sentiment']!='irrelevant']\n",
        "twitter.head()"
      ],
      "execution_count": 0,
      "outputs": [
        {
          "output_type": "execute_result",
          "data": {
            "text/html": [
              "<div>\n",
              "<style scoped>\n",
              "    .dataframe tbody tr th:only-of-type {\n",
              "        vertical-align: middle;\n",
              "    }\n",
              "\n",
              "    .dataframe tbody tr th {\n",
              "        vertical-align: top;\n",
              "    }\n",
              "\n",
              "    .dataframe thead th {\n",
              "        text-align: right;\n",
              "    }\n",
              "</style>\n",
              "<table border=\"1\" class=\"dataframe\">\n",
              "  <thead>\n",
              "    <tr style=\"text-align: right;\">\n",
              "      <th></th>\n",
              "      <th>Topic</th>\n",
              "      <th>Sentiment</th>\n",
              "      <th>TweetId</th>\n",
              "      <th>TweetDate</th>\n",
              "      <th>TweetText</th>\n",
              "    </tr>\n",
              "  </thead>\n",
              "  <tbody>\n",
              "    <tr>\n",
              "      <th>0</th>\n",
              "      <td>apple</td>\n",
              "      <td>positive</td>\n",
              "      <td>126415614616154112</td>\n",
              "      <td>Tue Oct 18 21:53:25 +0000 2011</td>\n",
              "      <td>Now all @Apple has to do is get swype on the i...</td>\n",
              "    </tr>\n",
              "    <tr>\n",
              "      <th>1</th>\n",
              "      <td>apple</td>\n",
              "      <td>positive</td>\n",
              "      <td>126404574230740992</td>\n",
              "      <td>Tue Oct 18 21:09:33 +0000 2011</td>\n",
              "      <td>@Apple will be adding more carrier support to ...</td>\n",
              "    </tr>\n",
              "    <tr>\n",
              "      <th>2</th>\n",
              "      <td>apple</td>\n",
              "      <td>positive</td>\n",
              "      <td>126402758403305474</td>\n",
              "      <td>Tue Oct 18 21:02:20 +0000 2011</td>\n",
              "      <td>Hilarious @youtube video - guy does a duet wit...</td>\n",
              "    </tr>\n",
              "    <tr>\n",
              "      <th>3</th>\n",
              "      <td>apple</td>\n",
              "      <td>positive</td>\n",
              "      <td>126397179614068736</td>\n",
              "      <td>Tue Oct 18 20:40:10 +0000 2011</td>\n",
              "      <td>@RIM you made it too easy for me to switch to ...</td>\n",
              "    </tr>\n",
              "    <tr>\n",
              "      <th>4</th>\n",
              "      <td>apple</td>\n",
              "      <td>positive</td>\n",
              "      <td>126395626979196928</td>\n",
              "      <td>Tue Oct 18 20:34:00 +0000 2011</td>\n",
              "      <td>I just realized that the reason I got into twi...</td>\n",
              "    </tr>\n",
              "  </tbody>\n",
              "</table>\n",
              "</div>"
            ],
            "text/plain": [
              "   Topic  ...                                          TweetText\n",
              "0  apple  ...  Now all @Apple has to do is get swype on the i...\n",
              "1  apple  ...  @Apple will be adding more carrier support to ...\n",
              "2  apple  ...  Hilarious @youtube video - guy does a duet wit...\n",
              "3  apple  ...  @RIM you made it too easy for me to switch to ...\n",
              "4  apple  ...  I just realized that the reason I got into twi...\n",
              "\n",
              "[5 rows x 5 columns]"
            ]
          },
          "metadata": {
            "tags": []
          },
          "execution_count": 34
        }
      ]
    },
    {
      "cell_type": "code",
      "metadata": {
        "id": "cMzYJ-1MJFcf",
        "colab_type": "code",
        "colab": {}
      },
      "source": [
        "def sentiment_polarity(text):\n",
        "  blob=TextBlob(text)\n",
        "  for sentence in blob.sentences:\n",
        "    score=(sentence.sentiment.polarity)\n",
        "    if score > 0.0:\n",
        "      return \"positive\"\n",
        "    elif score < 0.0:\n",
        "      return \"negative\"\n",
        "    else:\n",
        "      return \"neutral\""
      ],
      "execution_count": 0,
      "outputs": []
    },
    {
      "cell_type": "code",
      "metadata": {
        "id": "qzc2STyXJpKR",
        "colab_type": "code",
        "colab": {}
      },
      "source": [
        "twitter['Sentiment Blob']=twitter['TweetText'].apply(sentiment_polarity)\n",
        "amazon['Sentiment Blob']=amazon['reviewText'].apply(sentiment_polarity)"
      ],
      "execution_count": 0,
      "outputs": []
    },
    {
      "cell_type": "code",
      "metadata": {
        "id": "KfE7qQXKj2nX",
        "colab_type": "code",
        "colab": {}
      },
      "source": [
        "from nltk.sentiment.vader import SentimentIntensityAnalyzer"
      ],
      "execution_count": 0,
      "outputs": []
    },
    {
      "cell_type": "code",
      "metadata": {
        "id": "sZxkB0yCJ-7R",
        "colab_type": "code",
        "colab": {}
      },
      "source": [
        "def sent_intanalyzer(sentence):\n",
        "  sia = SentimentIntensityAnalyzer()\n",
        "  for text in sentence:\n",
        "    polarity = sia.polarity_scores(text)\n",
        "    if polarity['compound'] >= 0.05:\n",
        "      return \"positive\"\n",
        "    elif polarity['compound'] <= -0.05:\n",
        "      return \"negative\"\n",
        "    else:\n",
        "      return \"neutral\""
      ],
      "execution_count": 0,
      "outputs": []
    },
    {
      "cell_type": "code",
      "metadata": {
        "id": "hPeiZvXicZC7",
        "colab_type": "code",
        "colab": {}
      },
      "source": [
        "twitter['Sentiment SIA']=twitter['TweetText'].apply(sent_intanalyzer)\n",
        "amazon['Sentiment SIA']=amazon['reviewText'].apply(sent_intanalyzer)"
      ],
      "execution_count": 0,
      "outputs": []
    },
    {
      "cell_type": "code",
      "metadata": {
        "id": "VQxnx-S-c5KS",
        "colab_type": "code",
        "colab": {}
      },
      "source": [
        "tblob_cm=confusion_matrix(twitter['Sentiment'],twitter['Sentiment Blob'])\n",
        "sia_cm=confusion_matrix(twitter['Sentiment'],twitter['Sentiment SIA'])\n",
        "tblob_acc=accuracy_score(twitter['Sentiment'],twitter['Sentiment Blob'])\n",
        "sia_acc=accuracy_score(twitter['Sentiment'],twitter['Sentiment SIA'])"
      ],
      "execution_count": 0,
      "outputs": []
    },
    {
      "cell_type": "code",
      "metadata": {
        "id": "skIApqdCp-8g",
        "colab_type": "code",
        "outputId": "0d5d4da6-ac85-4091-caa7-c77e821598dc",
        "colab": {
          "base_uri": "https://localhost:8080/",
          "height": 204
        }
      },
      "source": [
        "print(\"Blob Confusion Matrix\", tblob_cm)\n",
        "print(\"_______________________________\")\n",
        "print(\"SIA Confusion Matrix\", sia_cm)\n",
        "print(\"_______________________________\")\n",
        "print(\"Blob Accuracy\", tblob_acc)\n",
        "print(\"_______________________________\")\n",
        "print(\"SIA Accuracy\", sia_acc)"
      ],
      "execution_count": 0,
      "outputs": [
        {
          "output_type": "stream",
          "text": [
            "Blob Confusion Matrix [[ 178  260  134]\n",
            " [ 189 1339  805]\n",
            " [  34  195  290]]\n",
            "_______________________________\n",
            "SIA Confusion Matrix [[   0  572    0]\n",
            " [   0 2333    0]\n",
            " [   0  519    0]]\n",
            "_______________________________\n",
            "Blob Accuracy 0.5277453271028038\n",
            "_______________________________\n",
            "SIA Accuracy 0.6813668224299065\n"
          ],
          "name": "stdout"
        }
      ]
    }
  ]
}